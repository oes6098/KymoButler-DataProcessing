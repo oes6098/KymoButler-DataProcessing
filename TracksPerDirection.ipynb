{
 "cells": [
  {
   "cell_type": "code",
   "execution_count": 6,
   "metadata": {},
   "outputs": [
    {
     "name": "stdout",
     "output_type": "stream",
     "text": [
      "             Direction     \n",
      "0          anterograde  NaN\n",
      "1           retrograde  NaN\n",
      "2           stationary  NaN\n",
      "3                total  NaN\n",
      "4  percent anterograde  NaN\n",
      "5   percent retrograde  NaN\n",
      "6   percent stationary  NaN\n"
     ]
    },
    {
     "name": "stderr",
     "output_type": "stream",
     "text": [
      "c:\\Users\\oes6098\\AppData\\Local\\anaconda3\\Lib\\site-packages\\openpyxl\\styles\\stylesheet.py:226: UserWarning: Workbook contains no default style, apply openpyxl's default\n",
      "  warn(\"Workbook contains no default style, apply openpyxl's default\")\n",
      "c:\\Users\\oes6098\\AppData\\Local\\anaconda3\\Lib\\site-packages\\openpyxl\\styles\\stylesheet.py:226: UserWarning: Workbook contains no default style, apply openpyxl's default\n",
      "  warn(\"Workbook contains no default style, apply openpyxl's default\")\n",
      "c:\\Users\\oes6098\\AppData\\Local\\anaconda3\\Lib\\site-packages\\openpyxl\\styles\\stylesheet.py:226: UserWarning: Workbook contains no default style, apply openpyxl's default\n",
      "  warn(\"Workbook contains no default style, apply openpyxl's default\")\n",
      "c:\\Users\\oes6098\\AppData\\Local\\anaconda3\\Lib\\site-packages\\openpyxl\\styles\\stylesheet.py:226: UserWarning: Workbook contains no default style, apply openpyxl's default\n",
      "  warn(\"Workbook contains no default style, apply openpyxl's default\")\n",
      "c:\\Users\\oes6098\\AppData\\Local\\anaconda3\\Lib\\site-packages\\openpyxl\\styles\\stylesheet.py:226: UserWarning: Workbook contains no default style, apply openpyxl's default\n",
      "  warn(\"Workbook contains no default style, apply openpyxl's default\")\n",
      "c:\\Users\\oes6098\\AppData\\Local\\anaconda3\\Lib\\site-packages\\openpyxl\\styles\\stylesheet.py:226: UserWarning: Workbook contains no default style, apply openpyxl's default\n",
      "  warn(\"Workbook contains no default style, apply openpyxl's default\")\n",
      "c:\\Users\\oes6098\\AppData\\Local\\anaconda3\\Lib\\site-packages\\openpyxl\\styles\\stylesheet.py:226: UserWarning: Workbook contains no default style, apply openpyxl's default\n",
      "  warn(\"Workbook contains no default style, apply openpyxl's default\")\n"
     ]
    }
   ],
   "source": [
    "import os\n",
    "import tkinter as tk\n",
    "from tkinter import filedialog\n",
    "import pandas as pd\n",
    "\n",
    "# Function to count occurrences of values in 'Direction' column\n",
    "def count_directions(df):\n",
    "    anterograde = (df['Direction'] == 1).sum()\n",
    "    retrograde = (df['Direction'] == -1).sum()\n",
    "    stationary = (df['Direction'] == 0).sum()\n",
    "    total = len(df)\n",
    "    return anterograde, retrograde, stationary, total\n",
    "\n",
    "# Function to calculate percentages\n",
    "def calculate_percentages(antero, retro, stationary, total):\n",
    "    percent_antro = (antero / total) * 100\n",
    "    percent_retro = (retro / total) * 100\n",
    "    percent_stationary = (stationary / total) * 100\n",
    "    return percent_antro, percent_retro, percent_stationary\n",
    "\n",
    "# Initialize tkinter\n",
    "root = tk.Tk()\n",
    "root.withdraw()\n",
    "\n",
    "# Ask user to select a directory\n",
    "directory = filedialog.askdirectory(title='Select Input Directory')\n",
    "\n",
    "# Check if a directory was selected\n",
    "if not directory:  # Corrected variable name to 'directory'\n",
    "    print(\"No directory selected. Exiting...\")\n",
    "    exit()\n",
    "\n",
    "# Initialize empty DataFrame to store results\n",
    "result_df = pd.DataFrame(columns=[' '])\n",
    "\n",
    "# Define the values for the first column\n",
    "first_column_values = [ 'anterograde', 'retrograde', 'stationary', 'total', 'percent anterograde', 'percent retrograde', 'percent stationary']\n",
    "\n",
    "# Insert the values into the first column of the dataframe\n",
    "result_df.insert(0, 'Direction', first_column_values)\n",
    "\n",
    "print(result_df)\n",
    "\n",
    "# Iterate over files in the directory\n",
    "for filename in os.listdir(directory):\n",
    "    if filename.startswith('kymograph') and (filename.endswith('.xlsx') or filename.endswith('.xls')):\n",
    "        filepath = os.path.join(directory, filename)\n",
    "        # Read Excel file into DataFrame\n",
    "        df = pd.read_excel(filepath)\n",
    "        # Count occurrences of directions\n",
    "        antero, retro, stationary, total = count_directions(df)\n",
    "        # Calculate percentages\n",
    "        percent_antro, percent_retro, percent_stationary = calculate_percentages(antero, retro, stationary, total)\n",
    "        # Add results to DataFrame\n",
    "        result_df[filename] = [antero, retro, stationary, total, percent_antro, percent_retro, percent_stationary]\n",
    "\n",
    "# Save DataFrame to Excel file\n",
    "result_df.to_excel(os.path.join(directory, 'directionresults.xlsx'), index=False)\n"
   ]
  },
  {
   "cell_type": "code",
   "execution_count": null,
   "metadata": {},
   "outputs": [],
   "source": []
  }
 ],
 "metadata": {
  "kernelspec": {
   "display_name": "base",
   "language": "python",
   "name": "python3"
  },
  "language_info": {
   "codemirror_mode": {
    "name": "ipython",
    "version": 3
   },
   "file_extension": ".py",
   "mimetype": "text/x-python",
   "name": "python",
   "nbconvert_exporter": "python",
   "pygments_lexer": "ipython3",
   "version": "3.11.7"
  }
 },
 "nbformat": 4,
 "nbformat_minor": 2
}
